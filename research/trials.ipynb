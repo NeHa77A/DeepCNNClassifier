{
 "cells": [
  {
   "cell_type": "code",
   "execution_count": 1,
   "metadata": {},
   "outputs": [
    {
     "name": "stdout",
     "output_type": "stream",
     "text": [
      "['d:\\\\Template for Data Science\\\\DeepCNNClassifier\\\\research', 'd:\\\\Template for Data Science\\\\DeepCNNClassifier\\\\venv\\\\python38.zip', 'd:\\\\Template for Data Science\\\\DeepCNNClassifier\\\\venv\\\\DLLs', 'd:\\\\Template for Data Science\\\\DeepCNNClassifier\\\\venv\\\\lib', 'd:\\\\Template for Data Science\\\\DeepCNNClassifier\\\\venv', '', 'd:\\\\Template for Data Science\\\\DeepCNNClassifier\\\\venv\\\\lib\\\\site-packages', 'D:\\\\Template for Data Science\\\\DeepCNNClassifier\\\\src', 'd:\\\\Template for Data Science\\\\DeepCNNClassifier\\\\venv\\\\lib\\\\site-packages\\\\win32', 'd:\\\\Template for Data Science\\\\DeepCNNClassifier\\\\venv\\\\lib\\\\site-packages\\\\win32\\\\lib', 'd:\\\\Template for Data Science\\\\DeepCNNClassifier\\\\venv\\\\lib\\\\site-packages\\\\Pythonwin']\n"
     ]
    }
   ],
   "source": [
    "import sys\n",
    "print(sys.path)\n"
   ]
  },
  {
   "cell_type": "code",
   "execution_count": 2,
   "metadata": {},
   "outputs": [],
   "source": [
    "from DeepClassifier.components import DataIngestion"
   ]
  },
  {
   "cell_type": "code",
   "execution_count": 3,
   "metadata": {},
   "outputs": [],
   "source": [
    "import tensorflow as tf"
   ]
  },
  {
   "cell_type": "code",
   "execution_count": null,
   "metadata": {},
   "outputs": [],
   "source": []
  }
 ],
 "metadata": {
  "kernelspec": {
   "display_name": "Python 3",
   "language": "python",
   "name": "python3"
  },
  "language_info": {
   "codemirror_mode": {
    "name": "ipython",
    "version": 3
   },
   "file_extension": ".py",
   "mimetype": "text/x-python",
   "name": "python",
   "nbconvert_exporter": "python",
   "pygments_lexer": "ipython3",
   "version": "3.8.18"
  }
 },
 "nbformat": 4,
 "nbformat_minor": 2
}
